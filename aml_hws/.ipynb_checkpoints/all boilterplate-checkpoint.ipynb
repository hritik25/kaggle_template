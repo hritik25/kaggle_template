{
 "cells": [
  {
   "cell_type": "markdown",
   "metadata": {},
   "source": [
    "## General outline:\n",
    "\n",
    "- load the data\n",
    "- segregate continuous vs categorical variables\n",
    "- treatment of invalid/missing data\n",
    "- visualize the data to get a feel\n",
    "  0. visualize the target\n",
    "  1. visualize the univariate distributions of the features (histograms, bars)\n",
    "  2. visulize target vs feature values distributions\n",
    "      - for **cassification**\n",
    "        - *categorical variables* - by doing nested bar plots with outer class being the target \n",
    "        - *continuous variables* - by plotting histograms with distributions colored by class\n",
    "      -  for **regression**\n",
    "        - *categorical variables* - box plots by category for different categorical variables\n",
    "        - *continous variables* - good ol' scatter plots\n",
    "- decide on a metric to evalate the model on (eg. AUC-ROC, adjusted R^2)\n",
    "- treatment of categorical variables (ordinal)\n",
    "- treatment of continous variables"
   ]
  },
  {
   "cell_type": "markdown",
   "metadata": {},
   "source": [
    "## TODO\n",
    "#### Write scripts for:\n",
    "  1. visualization (see cases above) using seaborn"
   ]
  },
  {
   "cell_type": "markdown",
   "metadata": {},
   "source": [
    "### imports related to cross-validation\n",
    "\n",
    "general:\n",
    "```\n",
    "import pandas as pd\n",
    "import numpy as np\n",
    "```\n",
    "\n",
    "feature engineering:\n",
    "```\n",
    "from sklearn.preprocessing import PolynomialFeatures\n",
    "from sklearn.preprocessing import OneHotEncoder\n",
    "from sklearn.preprocessing import StandardScaler\n",
    "```\n",
    "\n",
    "cross-validation and model tuning:\n",
    "```\n",
    "from sklearn.model_selection import train_test_split\n",
    "from sklearn.model_selection import cross_val_score\n",
    "from sklearn.model_selection import GridSearchCV\n",
    "from sklearn.model_selection import KFold, StratifiedKFold\n",
    "from sklearn.model_selection import GridSearchCV\n",
    "from sklearn.pipelines import make_pipeline\n",
    "from sklearn.compose import make_column_transformer\n",
    "```\n",
    "\n",
    "classifiction models\n",
    "```\n",
    "from sklearn.neighbors import KNeighborsClassifier\n",
    "from sklearn.linear_model import LogisticRegression\n",
    "from sklearn.svm import LinearSVC\n",
    "```\n",
    "\n",
    "Sklearn API reference - https://scikit-learn.org/stable/modules/classes.html"
   ]
  },
  {
   "cell_type": "code",
   "execution_count": 4,
   "metadata": {},
   "outputs": [],
   "source": [
    "# loading data\n",
    "# df = pd.read_csv()\n",
    "\n",
    "# examining data\n",
    "# df.info()\n",
    "# df.head()\n",
    "\n",
    "# train_test_split\n",
    "# X_train, X_test, y_train, y_test = train_test_split(X, y)"
   ]
  },
  {
   "cell_type": "code",
   "execution_count": 1,
   "metadata": {},
   "outputs": [],
   "source": [
    "# function to separate continuous and categorical features\n",
    "def separate_cont_cat(df):\n",
    "    continuous_features = df.select_dtypes(include='number').columns\n",
    "    categorical_features = df.select_dtypes(exclude='number').columns\n",
    "    return continous_features, categorical_features"
   ]
  },
  {
   "cell_type": "code",
   "execution_count": null,
   "metadata": {},
   "outputs": [],
   "source": [
    "# function to return X, y (training features, labels)\n",
    "def split_df_x_y(df, target_column):\n",
    "    cols = df.columns\n",
    "    feature_cols = [col for col in cols if col != target_column]\n",
    "    return df[feature_cols], dfd[target_cols]"
   ]
  },
  {
   "cell_type": "markdown",
   "metadata": {},
   "source": [
    "**OrdinalEncoder** example usage"
   ]
  },
  {
   "cell_type": "code",
   "execution_count": 5,
   "metadata": {
    "scrolled": false
   },
   "outputs": [
    {
     "name": "stdout",
     "output_type": "stream",
     "text": [
      "[[1.]\n",
      " [0.]\n",
      " [2.]\n",
      " [3.]]\n"
     ]
    }
   ],
   "source": [
    "from sklearn.preprocessing import OrdinalEncoder\n",
    "enc = OrdinalEncoder(categories=[['first','second','third','forth']])\n",
    "X = [['third'], ['second'], ['first']]\n",
    "enc.fit(X)\n",
    "print(enc.transform([['second'], ['first'], ['third'],['forth']]))"
   ]
  },
  {
   "cell_type": "code",
   "execution_count": null,
   "metadata": {},
   "outputs": [],
   "source": [
    "# craete a pipeline for feature transformations\n"
   ]
  },
  {
   "cell_type": "code",
   "execution_count": null,
   "metadata": {},
   "outputs": [],
   "source": [
    "# GridSearchCV syntax\n",
    "GridSearchCV(make_pipeline_output_object, param_grid=param_grid, cv=KFold(n_splits=5,shuffle=True))"
   ]
  }
 ],
 "metadata": {
  "kernelspec": {
   "display_name": "Python 3",
   "language": "python",
   "name": "python3"
  },
  "language_info": {
   "codemirror_mode": {
    "name": "ipython",
    "version": 3
   },
   "file_extension": ".py",
   "mimetype": "text/x-python",
   "name": "python",
   "nbconvert_exporter": "python",
   "pygments_lexer": "ipython3",
   "version": "3.7.5"
  }
 },
 "nbformat": 4,
 "nbformat_minor": 4
}
